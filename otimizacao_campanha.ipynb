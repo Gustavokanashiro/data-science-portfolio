{
  "nbformat": 4,
  "nbformat_minor": 0,
  "metadata": {
    "colab": {
      "provenance": [],
      "toc_visible": true,
      "mount_file_id": "1NEaxd-LAekTdTHUhv7xsRZqe4n-MCxPa",
      "authorship_tag": "ABX9TyN9tqDFdHH0zWwY6um9rCHB"
    },
    "kernelspec": {
      "name": "python3",
      "display_name": "Python 3"
    },
    "language_info": {
      "name": "python"
    }
  },
  "cells": [
    {
      "cell_type": "markdown",
      "source": [
        "# **Projeto de Data Science e Analytics - Colaboração com Equipe de Marketing**"
      ],
      "metadata": {
        "id": "eZ5q5CYQsqhv"
      }
    },
    {
      "cell_type": "markdown",
      "source": [
        "## 1. Objetivo do Projeto\n",
        "O objetivo deste projeto é colaborar com a equipe de marketing para otimizar campanhas por meio de análise preditiva. Neste caso iremos gerar modelo para prever a taxa de conversão com base na taxa de cliques.\n"
      ],
      "metadata": {
        "id": "mMU4iHCssuL2"
      }
    },
    {
      "cell_type": "markdown",
      "source": [
        "## 2. Coleta de Dados\n",
        "- Fonte de Dados: Dados simulados de campanhas de marketing.\n",
        "- Formato: CSV."
      ],
      "metadata": {
        "id": "gozUWnPmsC7G"
      }
    },
    {
      "cell_type": "code",
      "source": [
        "# Importando bibliotecas\n",
        "import pandas as pd\n",
        "from google.colab import files"
      ],
      "metadata": {
        "id": "2X1AdJpKsHmP"
      },
      "execution_count": null,
      "outputs": []
    },
    {
      "cell_type": "code",
      "source": [
        "## IMPORTAR ARQUIVO / CRIAR DATAFRAME\n",
        "# Criando dados fictícios\n",
        "data = {'customer_id': [1, 2, 3, 4, 5],\n",
        "        'campaign_id': [101, 102, 103, 104, 105],\n",
        "        'click_through_rate': [0.2, 0.15, 0.25, 0.18, 0.3],\n",
        "        'conversion_rate': [0.1, 0.08, 0.12, 0.09, 0.14]}\n",
        "df = pd.DataFrame(data)"
      ],
      "metadata": {
        "id": "6zmj_yy4sI0f"
      },
      "execution_count": null,
      "outputs": []
    },
    {
      "cell_type": "code",
      "source": [
        "# Salvando dados em um arquivo CSV\n",
        "df.to_csv('marketing_data.csv', index=False)"
      ],
      "metadata": {
        "id": "HII78CMrsPY2"
      },
      "execution_count": null,
      "outputs": []
    },
    {
      "cell_type": "code",
      "source": [
        "# Fazendo upload para o Google Colab\n",
        "uploaded = files.upload()"
      ],
      "metadata": {
        "id": "TLGr5wtKsS4n"
      },
      "execution_count": null,
      "outputs": []
    },
    {
      "cell_type": "markdown",
      "source": [
        "## 3. Pré-processamento de Dados\n",
        "- Limpeza e Transformação:\n",
        "  - Tratar valores ausentes, se houver.\n",
        "  - Normalizar os dados, se necessário"
      ],
      "metadata": {
        "id": "wvk5sfEjsU2O"
      }
    },
    {
      "cell_type": "code",
      "source": [
        "# Carregando dados\n",
        "df = pd.read_csv('marketing_data.csv')"
      ],
      "metadata": {
        "id": "hwcd0sA2sWvN"
      },
      "execution_count": null,
      "outputs": []
    },
    {
      "cell_type": "code",
      "source": [
        "# Tratamento de valores ausentes\n",
        "df.fillna(0, inplace=True)"
      ],
      "metadata": {
        "id": "SyujH6TlsZNu"
      },
      "execution_count": null,
      "outputs": []
    },
    {
      "cell_type": "code",
      "source": [
        "# Normalização (opcional, dependendo dos algoritmos escolhidos)\n",
        "from sklearn.preprocessing import MinMaxScaler\n",
        "scaler = MinMaxScaler()\n",
        "df[['click_through_rate', 'conversion_rate']] = scaler.fit_transform(df[['click_through_rate', 'conversion_rate']])"
      ],
      "metadata": {
        "id": "36teIDPjsaJm"
      },
      "execution_count": null,
      "outputs": []
    },
    {
      "cell_type": "markdown",
      "source": [
        "## 4. Análise Exploratória de Dados (EDA)\n",
        "- Visualização de Padrões:\n",
        "  - Identificar correlações entre taxas de clique e conversão.\n",
        "  - Visualizar distribuições e tendências."
      ],
      "metadata": {
        "id": "JiifC4mtv8A1"
      }
    },
    {
      "cell_type": "code",
      "source": [
        "# Visualizando correlações\n",
        "import seaborn as sns\n",
        "import matplotlib.pyplot as plt\n",
        "\n",
        "sns.pairplot(df[['click_through_rate', 'conversion_rate']])\n",
        "plt.show()\n"
      ],
      "metadata": {
        "id": "wu_UEUG6wrzV"
      },
      "execution_count": null,
      "outputs": []
    },
    {
      "cell_type": "markdown",
      "source": [
        "## 5. Modelagem\n",
        "- Tarefa: Prever a taxa de conversão com base na taxa de cliques.\n",
        "- Algoritmo Escolhido: Regressão Linear."
      ],
      "metadata": {
        "id": "R6Q1_jcLwtp_"
      }
    },
    {
      "cell_type": "code",
      "source": [
        "# Modelagem ML\n",
        "from sklearn.model_selection import train_test_split\n",
        "from sklearn.linear_model import LinearRegression\n",
        "from sklearn.metrics import r2_score\n",
        "\n",
        "X = df[['click_through_rate']]\n",
        "y = df['conversion_rate']\n",
        "\n",
        "X_train, X_test, y_train, y_test = train_test_split(X, y, test_size=0.2, random_state=42)\n",
        "\n",
        "model = LinearRegression()\n",
        "model.fit(X_train, y_train)\n",
        "\n",
        "# Avaliação do Modelo\n",
        "predictions = model.predict(X_test)\n",
        "r2 = r2_score(y_test, predictions)\n",
        "\n",
        "print(f'R-squared Score: {r2}')\n"
      ],
      "metadata": {
        "id": "xCllXmi-wzdr"
      },
      "execution_count": null,
      "outputs": []
    },
    {
      "cell_type": "markdown",
      "source": [
        "## 6. Avaliação e Validação do Modelo\n",
        "- Método de Avaliação: R-squared Score."
      ],
      "metadata": {
        "id": "XHOYhS9Bw4rM"
      }
    },
    {
      "cell_type": "code",
      "source": [
        "# Avaliação do Modelo\n",
        "predictions = model.predict(X_test)\n",
        "r2 = r2_score(y_test, predictions)\n",
        "\n",
        "print(f'R-squared Score: {r2}')"
      ],
      "metadata": {
        "id": "sxQ2t73Ww_8s"
      },
      "execution_count": null,
      "outputs": []
    }
  ]
}