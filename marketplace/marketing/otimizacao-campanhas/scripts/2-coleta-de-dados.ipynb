## 2. Coleta de Dados
### 
