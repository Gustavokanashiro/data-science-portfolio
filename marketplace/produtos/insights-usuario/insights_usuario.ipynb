{
  "nbformat": 4,
  "nbformat_minor": 0,
  "metadata": {
    "colab": {
      "provenance": [],
      "mount_file_id": "1NEaxd-LAekTdTHUhv7xsRZqe4n-MCxPa",
      "authorship_tag": "ABX9TyO0FY82lC5Ky6zzyS1x2Juy"
    },
    "kernelspec": {
      "name": "python3",
      "display_name": "Python 3"
    },
    "language_info": {
      "name": "python"
    }
  },
  "cells": [
    {
      "cell_type": "markdown",
      "source": [
        "# **Projeto de Data Science e Analytics - Produto**"
      ],
      "metadata": {
        "id": "eZ5q5CYQsqhv"
      }
    },
    {
      "cell_type": "markdown",
      "source": [
        "## 1. Objetivo do Projeto\n",
        "O objetivo deste projeto é colaborar com a equipe de produto para fornecer insights sobre o comportamento do usuário e análise de produtos mais vendidos, utilizando técnicas de Data Science e Analytics."
      ],
      "metadata": {
        "id": "mMU4iHCssuL2"
      }
    },
    {
      "cell_type": "markdown",
      "source": [
        "## 2. Coleta de Dados\n",
        "- Fonte de Dados: Dados simulados de transações de usuários.\n",
        "- Formato: CSV."
      ],
      "metadata": {
        "id": "gozUWnPmsC7G"
      }
    },
    {
      "cell_type": "code",
      "source": [
        "# Importando bibliotecas\n",
        "import pandas as pd\n",
        "from google.colab import files"
      ],
      "metadata": {
        "id": "2X1AdJpKsHmP"
      },
      "execution_count": null,
      "outputs": []
    },
    {
      "cell_type": "code",
      "source": [
        "## IMPORTAR ARQUIVO / CRIAR DATAFRAME\n",
        "# Criando dados fictícios\n",
        "data = {'user_id': [1, 2, 3, 4, 5],\n",
        "        'product_id': [101, 102, 103, 104, 105],\n",
        "        'purchase_amount': [50.0, 30.0, 40.0, 60.0, 70.0],\n",
        "        'category': ['Electronics', 'Clothing', 'Electronics', 'Books', 'Toys']}\n",
        "df = pd.DataFrame(data)"
      ],
      "metadata": {
        "id": "6zmj_yy4sI0f"
      },
      "execution_count": null,
      "outputs": []
    },
    {
      "cell_type": "code",
      "source": [
        "# Salvando dados em um arquivo CSV\n",
        "df.to_csv('product_data.csv', index=False)"
      ],
      "metadata": {
        "id": "HII78CMrsPY2"
      },
      "execution_count": null,
      "outputs": []
    },
    {
      "cell_type": "code",
      "source": [
        "# Fazendo upload para o Google Colab\n",
        "uploaded = files.upload()"
      ],
      "metadata": {
        "id": "TLGr5wtKsS4n"
      },
      "execution_count": null,
      "outputs": []
    },
    {
      "cell_type": "markdown",
      "source": [
        "## 3. Pré-processamento de Dados\n",
        "- Limpeza e Transformação:\n",
        "  - Tratar valores ausentes, se houver.\n",
        "  - Normalizar os dados, se necessário"
      ],
      "metadata": {
        "id": "wvk5sfEjsU2O"
      }
    },
    {
      "cell_type": "code",
      "source": [
        "# Carregando dados\n",
        "df = pd.read_csv('marketing_data.csv')"
      ],
      "metadata": {
        "id": "hwcd0sA2sWvN"
      },
      "execution_count": null,
      "outputs": []
    },
    {
      "cell_type": "code",
      "source": [
        "# Tratamento de valores ausentes\n",
        "df.fillna(0, inplace=True)"
      ],
      "metadata": {
        "id": "SyujH6TlsZNu"
      },
      "execution_count": null,
      "outputs": []
    },
    {
      "cell_type": "code",
      "source": [
        "# Normalização (opcional, dependendo dos algoritmos escolhidos)\n",
        "from sklearn.preprocessing import MinMaxScaler\n",
        "scaler = MinMaxScaler()\n",
        "df[['purchase_amount']] = scaler.fit_transform(df[['purchase_amount']])"
      ],
      "metadata": {
        "id": "36teIDPjsaJm"
      },
      "execution_count": null,
      "outputs": []
    },
    {
      "cell_type": "markdown",
      "source": [
        "## 4. Análise Exploratória de Dados (EDA)\n",
        "- Visualização de Padrões:\n",
        "  - Identificar padrões de compra por categoria.\n",
        "  - Visualizar distribuições e tendências."
      ],
      "metadata": {
        "id": "JiifC4mtv8A1"
      }
    },
    {
      "cell_type": "code",
      "source": [
        "# Visualizando padrões de compra\n",
        "import seaborn as sns\n",
        "import matplotlib.pyplot as plt\n",
        "\n",
        "plt.figure(figsize=(10, 6))\n",
        "sns.barplot(x='category', y='purchase_amount', data=df)\n",
        "plt.title('Padrões de Compra por Categoria')\n",
        "plt.show()\n"
      ],
      "metadata": {
        "id": "wu_UEUG6wrzV"
      },
      "execution_count": null,
      "outputs": []
    },
    {
      "cell_type": "markdown",
      "source": [
        "## 5. Modelagem\n",
        "- Tarefa: Identificar produtos mais propensos a serem comprados.\n",
        "- Algoritmo Escolhido: Algoritmo de Regressão Logística para classificação."
      ],
      "metadata": {
        "id": "R6Q1_jcLwtp_"
      }
    },
    {
      "cell_type": "code",
      "source": [
        "# Modelagem ML\n",
        "from sklearn.model_selection import train_test_split\n",
        "from sklearn.linear_model import LogisticRegression\n",
        "from sklearn.metrics import accuracy_score\n",
        "\n",
        "# Criando uma variável de resposta binária para classificação (por exemplo, se o produto foi comprado ou não)\n",
        "df['is_purchased'] = df['purchase_amount'] > df['purchase_amount'].mean()\n",
        "\n",
        "X = df[['user_id', 'product_id']]\n",
        "y = df['is_purchased']\n",
        "\n",
        "X_train, X_test, y_train, y_test = train_test_split(X, y, test_size=0.2, random_state=42)\n",
        "\n",
        "model = LogisticRegression()\n",
        "model.fit(X_train, y_train)\n",
        "\n",
        "# Avaliação do Modelo\n",
        "predictions = model.predict(X_test)\n",
        "accuracy = accuracy_score(y_test, predictions)\n",
        "\n",
        "print(f'Acurácia do Modelo: {accuracy}')\n"
      ],
      "metadata": {
        "id": "xCllXmi-wzdr"
      },
      "execution_count": null,
      "outputs": []
    },
    {
      "cell_type": "markdown",
      "source": [
        "## 6. Avaliação e Validação do Modelo\n",
        "- Método de Avaliação: Acurácia do Modelo."
      ],
      "metadata": {
        "id": "XHOYhS9Bw4rM"
      }
    },
    {
      "cell_type": "code",
      "source": [
        "# Avaliação do Modelo\n",
        "predictions = model.predict(X_test)\n",
        "accuracy = accuracy_score(y_test, predictions)\n",
        "\n",
        "print(f'Acurácia do Modelo: {accuracy}')"
      ],
      "metadata": {
        "id": "sxQ2t73Ww_8s",
        "colab": {
          "base_uri": "https://localhost:8080/",
          "height": 254
        },
        "outputId": "46563116-5927-4f0a-d3d0-78cd186f7abb"
      },
      "execution_count": null,
      "outputs": [
        {
          "output_type": "error",
          "ename": "NameError",
          "evalue": "ignored",
          "traceback": [
            "\u001b[0;31m---------------------------------------------------------------------------\u001b[0m",
            "\u001b[0;31mNameError\u001b[0m                                 Traceback (most recent call last)",
            "\u001b[0;32m<ipython-input-1-b8e51a340360>\u001b[0m in \u001b[0;36m<cell line: 2>\u001b[0;34m()\u001b[0m\n\u001b[1;32m      1\u001b[0m \u001b[0;31m# Avaliação do Modelo\u001b[0m\u001b[0;34m\u001b[0m\u001b[0;34m\u001b[0m\u001b[0m\n\u001b[0;32m----> 2\u001b[0;31m \u001b[0mpredictions\u001b[0m \u001b[0;34m=\u001b[0m \u001b[0mmodel\u001b[0m\u001b[0;34m.\u001b[0m\u001b[0mpredict\u001b[0m\u001b[0;34m(\u001b[0m\u001b[0mX_test\u001b[0m\u001b[0;34m)\u001b[0m\u001b[0;34m\u001b[0m\u001b[0;34m\u001b[0m\u001b[0m\n\u001b[0m\u001b[1;32m      3\u001b[0m \u001b[0maccuracy\u001b[0m \u001b[0;34m=\u001b[0m \u001b[0maccuracy_score\u001b[0m\u001b[0;34m(\u001b[0m\u001b[0my_test\u001b[0m\u001b[0;34m,\u001b[0m \u001b[0mpredictions\u001b[0m\u001b[0;34m)\u001b[0m\u001b[0;34m\u001b[0m\u001b[0;34m\u001b[0m\u001b[0m\n\u001b[1;32m      4\u001b[0m \u001b[0;34m\u001b[0m\u001b[0m\n\u001b[1;32m      5\u001b[0m \u001b[0mprint\u001b[0m\u001b[0;34m(\u001b[0m\u001b[0;34mf'Acurácia do Modelo: {accuracy}'\u001b[0m\u001b[0;34m)\u001b[0m\u001b[0;34m\u001b[0m\u001b[0;34m\u001b[0m\u001b[0m\n",
            "\u001b[0;31mNameError\u001b[0m: name 'model' is not defined"
          ]
        }
      ]
    },
    {
      "cell_type": "code",
      "source": [],
      "metadata": {
        "id": "C0GZ5gPu-EsB"
      },
      "execution_count": null,
      "outputs": []
    }
  ]
}